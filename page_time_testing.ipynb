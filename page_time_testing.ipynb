{
 "cells": [
  {
   "cell_type": "code",
   "execution_count": 1,
   "metadata": {},
   "outputs": [
    {
     "name": "stderr",
     "output_type": "stream",
     "text": [
      "\n",
      "Attaching package: ‘dplyr’\n",
      "\n",
      "\n",
      "The following objects are masked from ‘package:data.table’:\n",
      "\n",
      "    between, first, last\n",
      "\n",
      "\n",
      "The following objects are masked from ‘package:stats’:\n",
      "\n",
      "    filter, lag\n",
      "\n",
      "\n",
      "The following objects are masked from ‘package:base’:\n",
      "\n",
      "    intersect, setdiff, setequal, union\n",
      "\n",
      "\n"
     ]
    }
   ],
   "source": [
    "library(data.table)\n",
    "library(anytime)\n",
    "library(pwr)\n",
    "library(dplyr)\n",
    "library(ggplot2)"
   ]
  },
  {
   "cell_type": "code",
   "execution_count": 2,
   "metadata": {},
   "outputs": [
    {
     "data": {
      "text/plain": [
       "\n",
       "     Two-sample t test power calculation \n",
       "\n",
       "              n = 297589.4\n",
       "              d = 0.01\n",
       "      sig.level = 0.01\n",
       "          power = 0.9\n",
       "    alternative = two.sided\n",
       "\n",
       "NOTE: n is number in *each* group\n"
      ]
     },
     "metadata": {},
     "output_type": "display_data"
    }
   ],
   "source": [
    "pwr.t.test(n = NULL, \n",
    "           d = 0.01,\n",
    "           sig.level = 0.01,\n",
    "           type = \"two.sample\", \n",
    "           alternative = \"two.sided\",\n",
    "           power = .9)"
   ]
  },
  {
   "cell_type": "code",
   "execution_count": 3,
   "metadata": {
    "scrolled": true
   },
   "outputs": [],
   "source": [
    "data <-read.table('ydata-fp-td-clicks-v1_0.20090501',sep=''\n",
    "                  ,header=TRUE,fill=TRUE,\n",
    "                 nrow=50000)\n",
    "\n",
    "\n",
    "\n",
    "\n",
    "data_2 <-read.table('ydata-fp-td-clicks-v1_0.20090510.gz',sep=''\n",
    "                  ,header=TRUE,fill=TRUE,\n",
    "                  nrow=50000)\n",
    "data_2 <- data_2[,1:4]"
   ]
  },
  {
   "cell_type": "code",
   "execution_count": 4,
   "metadata": {},
   "outputs": [
    {
     "data": {
      "text/html": [
       "<table>\n",
       "<caption>A data.frame: 6 × 4</caption>\n",
       "<thead>\n",
       "\t<tr><th></th><th scope=col>X1241938500</th><th scope=col>X109766</th><th scope=col>X0</th><th scope=col>X.user</th></tr>\n",
       "\t<tr><th></th><th scope=col>&lt;int&gt;</th><th scope=col>&lt;int&gt;</th><th scope=col>&lt;int&gt;</th><th scope=col>&lt;chr&gt;</th></tr>\n",
       "</thead>\n",
       "<tbody>\n",
       "\t<tr><th scope=row>1</th><td>1241938500</td><td>109763</td><td>0</td><td>|user</td></tr>\n",
       "\t<tr><th scope=row>2</th><td>1241938500</td><td>109764</td><td>0</td><td>|user</td></tr>\n",
       "\t<tr><th scope=row>3</th><td>1241938500</td><td>109697</td><td>0</td><td>|user</td></tr>\n",
       "\t<tr><th scope=row>4</th><td>1241938500</td><td>109723</td><td>0</td><td>|user</td></tr>\n",
       "\t<tr><th scope=row>5</th><td>1241938500</td><td>109684</td><td>0</td><td>|user</td></tr>\n",
       "\t<tr><th scope=row>6</th><td>1241938500</td><td>109697</td><td>0</td><td>|user</td></tr>\n",
       "</tbody>\n",
       "</table>\n"
      ],
      "text/latex": [
       "A data.frame: 6 × 4\n",
       "\\begin{tabular}{r|llll}\n",
       "  & X1241938500 & X109766 & X0 & X.user\\\\\n",
       "  & <int> & <int> & <int> & <chr>\\\\\n",
       "\\hline\n",
       "\t1 & 1241938500 & 109763 & 0 & \\textbar{}user\\\\\n",
       "\t2 & 1241938500 & 109764 & 0 & \\textbar{}user\\\\\n",
       "\t3 & 1241938500 & 109697 & 0 & \\textbar{}user\\\\\n",
       "\t4 & 1241938500 & 109723 & 0 & \\textbar{}user\\\\\n",
       "\t5 & 1241938500 & 109684 & 0 & \\textbar{}user\\\\\n",
       "\t6 & 1241938500 & 109697 & 0 & \\textbar{}user\\\\\n",
       "\\end{tabular}\n"
      ],
      "text/markdown": [
       "\n",
       "A data.frame: 6 × 4\n",
       "\n",
       "| <!--/--> | X1241938500 &lt;int&gt; | X109766 &lt;int&gt; | X0 &lt;int&gt; | X.user &lt;chr&gt; |\n",
       "|---|---|---|---|---|\n",
       "| 1 | 1241938500 | 109763 | 0 | |user |\n",
       "| 2 | 1241938500 | 109764 | 0 | |user |\n",
       "| 3 | 1241938500 | 109697 | 0 | |user |\n",
       "| 4 | 1241938500 | 109723 | 0 | |user |\n",
       "| 5 | 1241938500 | 109684 | 0 | |user |\n",
       "| 6 | 1241938500 | 109697 | 0 | |user |\n",
       "\n"
      ],
      "text/plain": [
       "  X1241938500 X109766 X0 X.user\n",
       "1 1241938500  109763  0  |user \n",
       "2 1241938500  109764  0  |user \n",
       "3 1241938500  109697  0  |user \n",
       "4 1241938500  109723  0  |user \n",
       "5 1241938500  109684  0  |user \n",
       "6 1241938500  109697  0  |user "
      ]
     },
     "metadata": {},
     "output_type": "display_data"
    }
   ],
   "source": [
    "head(data_2)"
   ]
  },
  {
   "cell_type": "markdown",
   "metadata": {},
   "source": [
    "# Pipeline 1"
   ]
  },
  {
   "cell_type": "code",
   "execution_count": 5,
   "metadata": {},
   "outputs": [
    {
     "name": "stderr",
     "output_type": "stream",
     "text": [
      "Warning message in anytime(as.numeric(data$X1241160900)):\n",
      "“NAs introduced by coercion”\n",
      "Warning message in colnames(data)[5:150] <- paste(\"feature_id:feature_val\", 1:150):\n",
      "“number of items to replace is not a multiple of replacement length”\n",
      "Note: Using an external vector in selections is ambiguous.\n",
      "\u001b[34mℹ\u001b[39m Use `all_of(oldnames)` instead of `oldnames` to silence this message.\n",
      "\u001b[34mℹ\u001b[39m See <https://tidyselect.r-lib.org/reference/faq-external-vector.html>.\n",
      "\u001b[90mThis message is displayed once per session.\u001b[39m\n",
      "\n"
     ]
    }
   ],
   "source": [
    "data$X1241160900 <- anytime(as.numeric(data$X1241160900))\n",
    "colnames(data)[5:150] <- paste('feature_id:feature_val',1:150)\n",
    "oldnames = c(\"X1241160900\",\"X109513\",\"X0\",\"X.user\")\n",
    "newnames = c(\"datetime\",\"display_id\", \"user_click\", \"type\")\n",
    "\n",
    "\n",
    "\n",
    "data <- data %>% rename_at(vars(oldnames), ~ newnames)\n",
    "\n",
    "# drop all NA rows\n",
    "data <- data[complete.cases(data),]"
   ]
  },
  {
   "cell_type": "code",
   "execution_count": 6,
   "metadata": {},
   "outputs": [],
   "source": [
    "data$datetime <- anytime(as.numeric(data$datetime))\n",
    "data$user_click <- as.numeric(as.character(data$user_click))\n",
    "data$display_id <- as.numeric(as.character(data$display_id))"
   ]
  },
  {
   "cell_type": "markdown",
   "metadata": {},
   "source": [
    "# Pipeline 2"
   ]
  },
  {
   "cell_type": "code",
   "execution_count": 7,
   "metadata": {},
   "outputs": [
    {
     "name": "stderr",
     "output_type": "stream",
     "text": [
      "Note: Using an external vector in selections is ambiguous.\n",
      "\u001b[34mℹ\u001b[39m Use `all_of(oldnames_2)` instead of `oldnames_2` to silence this message.\n",
      "\u001b[34mℹ\u001b[39m See <https://tidyselect.r-lib.org/reference/faq-external-vector.html>.\n",
      "\u001b[90mThis message is displayed once per session.\u001b[39m\n",
      "\n"
     ]
    }
   ],
   "source": [
    "oldnames_2 = c(\"X1241938500\",\"X109766\",\"X0\",\"X.user\")\n",
    "newnames_2 = c(\"datetime\",\"display_id\", \"user_click\", \"type\")\n",
    "\n",
    "data_2<- data_2 %>% rename_at(vars(oldnames_2), ~ newnames_2)"
   ]
  },
  {
   "cell_type": "code",
   "execution_count": 8,
   "metadata": {},
   "outputs": [],
   "source": [
    "data_2$datetime <- anytime(as.numeric(data_2$datetime))\n",
    "data_2$user_click <- as.numeric(as.character(data_2$user_click))\n",
    "data_2$display_id <- as.numeric(as.character(data_2$display_id))\n",
    "data_2 <- data_2[complete.cases(data_2),]"
   ]
  },
  {
   "cell_type": "markdown",
   "metadata": {},
   "source": [
    "# Visualization"
   ]
  },
  {
   "cell_type": "code",
   "execution_count": 9,
   "metadata": {},
   "outputs": [
    {
     "ename": "ERROR",
     "evalue": "Error in as.POSIXct(plot_1$datetime, format = \"%H:%M:%S\"): object 'plot_1' not found\n",
     "output_type": "error",
     "traceback": [
      "Error in as.POSIXct(plot_1$datetime, format = \"%H:%M:%S\"): object 'plot_1' not found\nTraceback:\n",
      "1. as.POSIXct(plot_1$datetime, format = \"%H:%M:%S\")"
     ]
    }
   ],
   "source": [
    "plot_1$datetime <- as.POSIXct(plot_1$datetime, format=\"%H:%M:%S\")\n",
    "ggplot(data=plot_1, aes(plot_1$datetime,f/100)) + geom_line() "
   ]
  },
  {
   "cell_type": "code",
   "execution_count": 10,
   "metadata": {},
   "outputs": [
    {
     "name": "stderr",
     "output_type": "stream",
     "text": [
      "`summarise()` ungrouping output (override with `.groups` argument)\n",
      "\n",
      "Warning message:\n",
      "“`data_frame()` is deprecated as of tibble 1.1.0.\n",
      "Please use `tibble()` instead.\n",
      "\u001b[90mThis warning is displayed once every 8 hours.\u001b[39m\n",
      "\u001b[90mCall `lifecycle::last_warnings()` to see where this warning was generated.\u001b[39m”\n"
     ]
    },
    {
     "data": {
      "text/html": [
       "<table>\n",
       "<caption>A tibble: 8 × 2</caption>\n",
       "<thead>\n",
       "\t<tr><th scope=col>datetime</th><th scope=col>f</th></tr>\n",
       "\t<tr><th scope=col>&lt;dttm&gt;</th><th scope=col>&lt;dbl&gt;</th></tr>\n",
       "</thead>\n",
       "<tbody>\n",
       "\t<tr><td>2009-05-09 23:55:00</td><td> 44</td></tr>\n",
       "\t<tr><td>2009-05-10 00:00:00</td><td>191</td></tr>\n",
       "\t<tr><td>2009-05-10 00:05:00</td><td>187</td></tr>\n",
       "\t<tr><td>2009-05-10 00:10:00</td><td>162</td></tr>\n",
       "\t<tr><td>2009-05-10 00:15:00</td><td>163</td></tr>\n",
       "\t<tr><td>2009-05-10 00:20:00</td><td>155</td></tr>\n",
       "\t<tr><td>2009-05-10 00:25:00</td><td>157</td></tr>\n",
       "\t<tr><td>2009-05-10 00:30:00</td><td>153</td></tr>\n",
       "</tbody>\n",
       "</table>\n"
      ],
      "text/latex": [
       "A tibble: 8 × 2\n",
       "\\begin{tabular}{ll}\n",
       " datetime & f\\\\\n",
       " <dttm> & <dbl>\\\\\n",
       "\\hline\n",
       "\t 2009-05-09 23:55:00 &  44\\\\\n",
       "\t 2009-05-10 00:00:00 & 191\\\\\n",
       "\t 2009-05-10 00:05:00 & 187\\\\\n",
       "\t 2009-05-10 00:10:00 & 162\\\\\n",
       "\t 2009-05-10 00:15:00 & 163\\\\\n",
       "\t 2009-05-10 00:20:00 & 155\\\\\n",
       "\t 2009-05-10 00:25:00 & 157\\\\\n",
       "\t 2009-05-10 00:30:00 & 153\\\\\n",
       "\\end{tabular}\n"
      ],
      "text/markdown": [
       "\n",
       "A tibble: 8 × 2\n",
       "\n",
       "| datetime &lt;dttm&gt; | f &lt;dbl&gt; |\n",
       "|---|---|\n",
       "| 2009-05-09 23:55:00 |  44 |\n",
       "| 2009-05-10 00:00:00 | 191 |\n",
       "| 2009-05-10 00:05:00 | 187 |\n",
       "| 2009-05-10 00:10:00 | 162 |\n",
       "| 2009-05-10 00:15:00 | 163 |\n",
       "| 2009-05-10 00:20:00 | 155 |\n",
       "| 2009-05-10 00:25:00 | 157 |\n",
       "| 2009-05-10 00:30:00 | 153 |\n",
       "\n"
      ],
      "text/plain": [
       "  datetime            f  \n",
       "1 2009-05-09 23:55:00  44\n",
       "2 2009-05-10 00:00:00 191\n",
       "3 2009-05-10 00:05:00 187\n",
       "4 2009-05-10 00:10:00 162\n",
       "5 2009-05-10 00:15:00 163\n",
       "6 2009-05-10 00:20:00 155\n",
       "7 2009-05-10 00:25:00 157\n",
       "8 2009-05-10 00:30:00 153"
      ]
     },
     "metadata": {},
     "output_type": "display_data"
    }
   ],
   "source": [
    "plot_2 <- data_2 %>% group_by(datetime) %>%\n",
    "summarize(f = sum(user_click ))\n",
    "plot_2 <- data_frame(plot_2)\n",
    "plot_2"
   ]
  },
  {
   "cell_type": "code",
   "execution_count": 11,
   "metadata": {},
   "outputs": [
    {
     "name": "stderr",
     "output_type": "stream",
     "text": [
      "Warning message:\n",
      "“Use of `plot_2$datetime` is discouraged. Use `datetime` instead.”\n"
     ]
    },
    {
     "data": {
      "image/png": "[encoded data removed]",
      "text/plain": [
       "plot without title"
      ]
     },
     "metadata": {
      "image/png": {
       "height": 420,
       "width": 420
      }
     },
     "output_type": "display_data"
    }
   ],
   "source": [
    "plot_2$datetime <- as.POSIXct(plot_2$datetime, format=\"%H:%M:%S\")\n",
    "ggplot(data=plot_2, aes(plot_2$datetime,f/100)) + geom_line() "
   ]
  },
  {
   "cell_type": "markdown",
   "metadata": {},
   "source": [
    "## Testing"
   ]
  },
  {
   "cell_type": "code",
   "execution_count": 12,
   "metadata": {},
   "outputs": [
    {
     "name": "stderr",
     "output_type": "stream",
     "text": [
      "`summarise()` ungrouping output (override with `.groups` argument)\n",
      "\n",
      "Warning message:\n",
      "“The `i` argument of ``[.tbl_df`()` must lie in [0, rows] if positive, as of tibble 3.0.0.\n",
      "Use `NA_integer_` as row index to obtain a row full of `NA` values.\n",
      "\u001b[90mThis warning is displayed once every 8 hours.\u001b[39m\n",
      "\u001b[90mCall `lifecycle::last_warnings()` to see where this warning was generated.\u001b[39m”\n"
     ]
    },
    {
     "data": {
      "text/html": [
       "<table>\n",
       "<caption>A tibble: 29 × 2</caption>\n",
       "<thead>\n",
       "\t<tr><th scope=col>display_id</th><th scope=col>total_click</th></tr>\n",
       "\t<tr><th scope=col>&lt;dbl&gt;</th><th scope=col>&lt;dbl&gt;</th></tr>\n",
       "</thead>\n",
       "<tbody>\n",
       "\t<tr><td>109492</td><td>24</td></tr>\n",
       "\t<tr><td>109515</td><td>33</td></tr>\n",
       "\t<tr><td>109501</td><td>39</td></tr>\n",
       "\t<tr><td>109495</td><td>41</td></tr>\n",
       "\t<tr><td>109498</td><td>52</td></tr>\n",
       "\t<tr><td>109512</td><td>57</td></tr>\n",
       "\t<tr><td>109453</td><td>60</td></tr>\n",
       "\t<tr><td>109506</td><td>62</td></tr>\n",
       "\t<tr><td>109505</td><td>65</td></tr>\n",
       "\t<tr><td>109509</td><td>67</td></tr>\n",
       "\t<tr><td>109484</td><td>73</td></tr>\n",
       "\t<tr><td>109473</td><td>74</td></tr>\n",
       "\t<tr><td>109511</td><td>75</td></tr>\n",
       "\t<tr><td>109510</td><td>76</td></tr>\n",
       "\t<tr><td>109513</td><td>77</td></tr>\n",
       "\t<tr><td>109502</td><td>78</td></tr>\n",
       "\t<tr><td>109514</td><td>78</td></tr>\n",
       "\t<tr><td>109508</td><td>81</td></tr>\n",
       "\t<tr><td>109494</td><td>84</td></tr>\n",
       "\t<tr><td>109503</td><td>92</td></tr>\n",
       "\t<tr><td>    NA</td><td>NA</td></tr>\n",
       "\t<tr><td>    NA</td><td>NA</td></tr>\n",
       "\t<tr><td>    NA</td><td>NA</td></tr>\n",
       "\t<tr><td>    NA</td><td>NA</td></tr>\n",
       "\t<tr><td>    NA</td><td>NA</td></tr>\n",
       "\t<tr><td>    NA</td><td>NA</td></tr>\n",
       "\t<tr><td>    NA</td><td>NA</td></tr>\n",
       "\t<tr><td>    NA</td><td>NA</td></tr>\n",
       "\t<tr><td>    NA</td><td>NA</td></tr>\n",
       "</tbody>\n",
       "</table>\n"
      ],
      "text/latex": [
       "A tibble: 29 × 2\n",
       "\\begin{tabular}{ll}\n",
       " display\\_id & total\\_click\\\\\n",
       " <dbl> & <dbl>\\\\\n",
       "\\hline\n",
       "\t 109492 & 24\\\\\n",
       "\t 109515 & 33\\\\\n",
       "\t 109501 & 39\\\\\n",
       "\t 109495 & 41\\\\\n",
       "\t 109498 & 52\\\\\n",
       "\t 109512 & 57\\\\\n",
       "\t 109453 & 60\\\\\n",
       "\t 109506 & 62\\\\\n",
       "\t 109505 & 65\\\\\n",
       "\t 109509 & 67\\\\\n",
       "\t 109484 & 73\\\\\n",
       "\t 109473 & 74\\\\\n",
       "\t 109511 & 75\\\\\n",
       "\t 109510 & 76\\\\\n",
       "\t 109513 & 77\\\\\n",
       "\t 109502 & 78\\\\\n",
       "\t 109514 & 78\\\\\n",
       "\t 109508 & 81\\\\\n",
       "\t 109494 & 84\\\\\n",
       "\t 109503 & 92\\\\\n",
       "\t     NA & NA\\\\\n",
       "\t     NA & NA\\\\\n",
       "\t     NA & NA\\\\\n",
       "\t     NA & NA\\\\\n",
       "\t     NA & NA\\\\\n",
       "\t     NA & NA\\\\\n",
       "\t     NA & NA\\\\\n",
       "\t     NA & NA\\\\\n",
       "\t     NA & NA\\\\\n",
       "\\end{tabular}\n"
      ],
      "text/markdown": [
       "\n",
       "A tibble: 29 × 2\n",
       "\n",
       "| display_id &lt;dbl&gt; | total_click &lt;dbl&gt; |\n",
       "|---|---|\n",
       "| 109492 | 24 |\n",
       "| 109515 | 33 |\n",
       "| 109501 | 39 |\n",
       "| 109495 | 41 |\n",
       "| 109498 | 52 |\n",
       "| 109512 | 57 |\n",
       "| 109453 | 60 |\n",
       "| 109506 | 62 |\n",
       "| 109505 | 65 |\n",
       "| 109509 | 67 |\n",
       "| 109484 | 73 |\n",
       "| 109473 | 74 |\n",
       "| 109511 | 75 |\n",
       "| 109510 | 76 |\n",
       "| 109513 | 77 |\n",
       "| 109502 | 78 |\n",
       "| 109514 | 78 |\n",
       "| 109508 | 81 |\n",
       "| 109494 | 84 |\n",
       "| 109503 | 92 |\n",
       "|     NA | NA |\n",
       "|     NA | NA |\n",
       "|     NA | NA |\n",
       "|     NA | NA |\n",
       "|     NA | NA |\n",
       "|     NA | NA |\n",
       "|     NA | NA |\n",
       "|     NA | NA |\n",
       "|     NA | NA |\n",
       "\n"
      ],
      "text/plain": [
       "   display_id total_click\n",
       "1  109492     24         \n",
       "2  109515     33         \n",
       "3  109501     39         \n",
       "4  109495     41         \n",
       "5  109498     52         \n",
       "6  109512     57         \n",
       "7  109453     60         \n",
       "8  109506     62         \n",
       "9  109505     65         \n",
       "10 109509     67         \n",
       "11 109484     73         \n",
       "12 109473     74         \n",
       "13 109511     75         \n",
       "14 109510     76         \n",
       "15 109513     77         \n",
       "16 109502     78         \n",
       "17 109514     78         \n",
       "18 109508     81         \n",
       "19 109494     84         \n",
       "20 109503     92         \n",
       "21     NA     NA         \n",
       "22     NA     NA         \n",
       "23     NA     NA         \n",
       "24     NA     NA         \n",
       "25     NA     NA         \n",
       "26     NA     NA         \n",
       "27     NA     NA         \n",
       "28     NA     NA         \n",
       "29     NA     NA         "
      ]
     },
     "metadata": {},
     "output_type": "display_data"
    }
   ],
   "source": [
    "group_1 <- data %>% group_by(display_id) %>%\n",
    "summarise(total_click = sum(user_click)) %>% arrange(total_click)\n",
    "group_1 <- group_1[2:30,]\n",
    "group_1"
   ]
  },
  {
   "cell_type": "code",
   "execution_count": 13,
   "metadata": {},
   "outputs": [
    {
     "name": "stderr",
     "output_type": "stream",
     "text": [
      "`summarise()` ungrouping output (override with `.groups` argument)\n",
      "\n"
     ]
    },
    {
     "data": {
      "text/html": [
       "<table>\n",
       "<caption>A tibble: 20 × 2</caption>\n",
       "<thead>\n",
       "\t<tr><th scope=col>display_id</th><th scope=col>total_click</th></tr>\n",
       "\t<tr><th scope=col>&lt;dbl&gt;</th><th scope=col>&lt;dbl&gt;</th></tr>\n",
       "</thead>\n",
       "<tbody>\n",
       "\t<tr><td>109723</td><td>35</td></tr>\n",
       "\t<tr><td>109764</td><td>36</td></tr>\n",
       "\t<tr><td>109697</td><td>37</td></tr>\n",
       "\t<tr><td>109760</td><td>40</td></tr>\n",
       "\t<tr><td>109756</td><td>46</td></tr>\n",
       "\t<tr><td>109767</td><td>48</td></tr>\n",
       "\t<tr><td>109741</td><td>49</td></tr>\n",
       "\t<tr><td>109763</td><td>54</td></tr>\n",
       "\t<tr><td>109731</td><td>56</td></tr>\n",
       "\t<tr><td>109755</td><td>62</td></tr>\n",
       "\t<tr><td>109684</td><td>65</td></tr>\n",
       "\t<tr><td>109761</td><td>65</td></tr>\n",
       "\t<tr><td>109766</td><td>68</td></tr>\n",
       "\t<tr><td>109769</td><td>71</td></tr>\n",
       "\t<tr><td>109746</td><td>72</td></tr>\n",
       "\t<tr><td>109745</td><td>73</td></tr>\n",
       "\t<tr><td>109686</td><td>74</td></tr>\n",
       "\t<tr><td>109758</td><td>80</td></tr>\n",
       "\t<tr><td>109740</td><td>89</td></tr>\n",
       "\t<tr><td>109762</td><td>92</td></tr>\n",
       "</tbody>\n",
       "</table>\n"
      ],
      "text/latex": [
       "A tibble: 20 × 2\n",
       "\\begin{tabular}{ll}\n",
       " display\\_id & total\\_click\\\\\n",
       " <dbl> & <dbl>\\\\\n",
       "\\hline\n",
       "\t 109723 & 35\\\\\n",
       "\t 109764 & 36\\\\\n",
       "\t 109697 & 37\\\\\n",
       "\t 109760 & 40\\\\\n",
       "\t 109756 & 46\\\\\n",
       "\t 109767 & 48\\\\\n",
       "\t 109741 & 49\\\\\n",
       "\t 109763 & 54\\\\\n",
       "\t 109731 & 56\\\\\n",
       "\t 109755 & 62\\\\\n",
       "\t 109684 & 65\\\\\n",
       "\t 109761 & 65\\\\\n",
       "\t 109766 & 68\\\\\n",
       "\t 109769 & 71\\\\\n",
       "\t 109746 & 72\\\\\n",
       "\t 109745 & 73\\\\\n",
       "\t 109686 & 74\\\\\n",
       "\t 109758 & 80\\\\\n",
       "\t 109740 & 89\\\\\n",
       "\t 109762 & 92\\\\\n",
       "\\end{tabular}\n"
      ],
      "text/markdown": [
       "\n",
       "A tibble: 20 × 2\n",
       "\n",
       "| display_id &lt;dbl&gt; | total_click &lt;dbl&gt; |\n",
       "|---|---|\n",
       "| 109723 | 35 |\n",
       "| 109764 | 36 |\n",
       "| 109697 | 37 |\n",
       "| 109760 | 40 |\n",
       "| 109756 | 46 |\n",
       "| 109767 | 48 |\n",
       "| 109741 | 49 |\n",
       "| 109763 | 54 |\n",
       "| 109731 | 56 |\n",
       "| 109755 | 62 |\n",
       "| 109684 | 65 |\n",
       "| 109761 | 65 |\n",
       "| 109766 | 68 |\n",
       "| 109769 | 71 |\n",
       "| 109746 | 72 |\n",
       "| 109745 | 73 |\n",
       "| 109686 | 74 |\n",
       "| 109758 | 80 |\n",
       "| 109740 | 89 |\n",
       "| 109762 | 92 |\n",
       "\n"
      ],
      "text/plain": [
       "   display_id total_click\n",
       "1  109723     35         \n",
       "2  109764     36         \n",
       "3  109697     37         \n",
       "4  109760     40         \n",
       "5  109756     46         \n",
       "6  109767     48         \n",
       "7  109741     49         \n",
       "8  109763     54         \n",
       "9  109731     56         \n",
       "10 109755     62         \n",
       "11 109684     65         \n",
       "12 109761     65         \n",
       "13 109766     68         \n",
       "14 109769     71         \n",
       "15 109746     72         \n",
       "16 109745     73         \n",
       "17 109686     74         \n",
       "18 109758     80         \n",
       "19 109740     89         \n",
       "20 109762     92         "
      ]
     },
     "metadata": {},
     "output_type": "display_data"
    }
   ],
   "source": [
    "group_2 <- data_2 %>% group_by(display_id) %>%\n",
    "summarise(total_click = sum(user_click)) %>% arrange(total_click)\n",
    "group_2"
   ]
  },
  {
   "cell_type": "code",
   "execution_count": 14,
   "metadata": {},
   "outputs": [],
   "source": [
    "group_1$version <- 'group_1'\n",
    "group_2$version <- 'group_2'"
   ]
  },
  {
   "cell_type": "code",
   "execution_count": 15,
   "metadata": {},
   "outputs": [],
   "source": [
    "testing <- rbind(group_1,group_2)\n",
    "testing <- testing[c(1:57),]"
   ]
  },
  {
   "cell_type": "code",
   "execution_count": 16,
   "metadata": {},
   "outputs": [
    {
     "name": "stderr",
     "output_type": "stream",
     "text": [
      "`summarise()` ungrouping output (override with `.groups` argument)\n",
      "\n"
     ]
    },
    {
     "data": {
      "text/html": [
       "<table>\n",
       "<caption>A tibble: 3 × 4</caption>\n",
       "<thead>\n",
       "\t<tr><th scope=col>version</th><th scope=col>count</th><th scope=col>mean</th><th scope=col>sd</th></tr>\n",
       "\t<tr><th scope=col>&lt;chr&gt;</th><th scope=col>&lt;int&gt;</th><th scope=col>&lt;dbl&gt;</th><th scope=col>&lt;dbl&gt;</th></tr>\n",
       "</thead>\n",
       "<tbody>\n",
       "\t<tr><td>group_1</td><td>29</td><td>64.4</td><td>18.37447</td></tr>\n",
       "\t<tr><td>group_2</td><td>20</td><td>60.6</td><td>17.24254</td></tr>\n",
       "\t<tr><td>NA     </td><td> 8</td><td> NaN</td><td>      NA</td></tr>\n",
       "</tbody>\n",
       "</table>\n"
      ],
      "text/latex": [
       "A tibble: 3 × 4\n",
       "\\begin{tabular}{llll}\n",
       " version & count & mean & sd\\\\\n",
       " <chr> & <int> & <dbl> & <dbl>\\\\\n",
       "\\hline\n",
       "\t group\\_1 & 29 & 64.4 & 18.37447\\\\\n",
       "\t group\\_2 & 20 & 60.6 & 17.24254\\\\\n",
       "\t NA      &  8 &  NaN &       NA\\\\\n",
       "\\end{tabular}\n"
      ],
      "text/markdown": [
       "\n",
       "A tibble: 3 × 4\n",
       "\n",
       "| version &lt;chr&gt; | count &lt;int&gt; | mean &lt;dbl&gt; | sd &lt;dbl&gt; |\n",
       "|---|---|---|---|\n",
       "| group_1 | 29 | 64.4 | 18.37447 |\n",
       "| group_2 | 20 | 60.6 | 17.24254 |\n",
       "| NA      |  8 |  NaN |       NA |\n",
       "\n"
      ],
      "text/plain": [
       "  version count mean sd      \n",
       "1 group_1 29    64.4 18.37447\n",
       "2 group_2 20    60.6 17.24254\n",
       "3 NA       8     NaN       NA"
      ]
     },
     "metadata": {},
     "output_type": "display_data"
    }
   ],
   "source": [
    "testing%>%\n",
    "group_by(version) %>%\n",
    "  summarise(\n",
    "    count = n(),\n",
    "    mean = mean(total_click, na.rm = TRUE),\n",
    "    sd = sd(total_click, na.rm = TRUE)\n",
    "  )"
   ]
  },
  {
   "cell_type": "code",
   "execution_count": 17,
   "metadata": {},
   "outputs": [
    {
     "name": "stderr",
     "output_type": "stream",
     "text": [
      "Warning message:\n",
      "“Removed 17 rows containing non-finite values (stat_boxplot).”\n"
     ]
    },
    {
     "data": {
      "image/png": "[encoded data removed]",
      "text/plain": [
       "plot without title"
      ]
     },
     "metadata": {
      "image/png": {
       "height": 420,
       "width": 420
      }
     },
     "output_type": "display_data"
    }
   ],
   "source": [
    "ggplot(testing, aes(total_click, version)) + \n",
    "\tgeom_boxplot()"
   ]
  },
  {
   "cell_type": "code",
   "execution_count": 18,
   "metadata": {},
   "outputs": [
    {
     "data": {
      "text/plain": [
       "\n",
       "\tWelch Two Sample t-test\n",
       "\n",
       "data:  total_click by version\n",
       "t = 0.67443, df = 37.847, p-value = 0.5041\n",
       "alternative hypothesis: true difference in means is not equal to 0\n",
       "95 percent confidence interval:\n",
       " -7.60773 15.20773\n",
       "sample estimates:\n",
       "mean in group group_1 mean in group group_2 \n",
       "                 64.4                  60.6 \n"
      ]
     },
     "metadata": {},
     "output_type": "display_data"
    }
   ],
   "source": [
    "t.test(total_click~version, data=testing)"
   ]
  },
  {
   "cell_type": "code",
   "execution_count": null,
   "metadata": {},
   "outputs": [],
   "source": []
  }
 ],
 "metadata": {
  "kernelspec": {
   "display_name": "R",
   "language": "R",
   "name": "ir"
  },
  "language_info": {
   "codemirror_mode": "r",
   "file_extension": ".r",
   "mimetype": "text/x-r-source",
   "name": "R",
   "pygments_lexer": "r",
   "version": "4.0.2"
  }
 },
 "nbformat": 4,
 "nbformat_minor": 4
}
